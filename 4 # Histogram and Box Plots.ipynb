{
 "cells": [
  {
   "cell_type": "markdown",
   "metadata": {},
   "source": [
    "<h1>HISTOGRAM</h1>"
   ]
  },
  {
   "cell_type": "raw",
   "metadata": {},
   "source": [
    "    Histogram is used to visualize the spread of data of a distribution.\n",
    "\n",
    "    hist function is used to plot a histogram.\n",
    "\n",
    "Syntax\n",
    "\n",
    "hist(x)\n",
    "# 'x' : Data values of a single variable.\n",
    "\n"
   ]
  },
  {
   "cell_type": "markdown",
   "metadata": {},
   "source": [
    "With the seed reset (every time), the same set of numbers will appear every time.\n",
    "If the random seed is not reset, different numbers appear with every invocation:"
   ]
  },
  {
   "cell_type": "code",
   "execution_count": 1,
   "metadata": {},
   "outputs": [
    {
     "data": {
      "text/plain": [
       "array([0.54340494, 0.27836939, 0.42451759])"
      ]
     },
     "execution_count": 1,
     "metadata": {},
     "output_type": "execute_result"
    }
   ],
   "source": [
    "import numpy as np\n",
    "np.random.seed(100)\n",
    "np.random.rand(3)"
   ]
  },
  {
   "cell_type": "code",
   "execution_count": 2,
   "metadata": {},
   "outputs": [
    {
     "data": {
      "text/plain": [
       "array([0.54340494, 0.27836939, 0.42451759])"
      ]
     },
     "execution_count": 2,
     "metadata": {},
     "output_type": "execute_result"
    }
   ],
   "source": [
    "np.random.seed(100)\n",
    "np.random.rand(3)"
   ]
  },
  {
   "cell_type": "code",
   "execution_count": 3,
   "metadata": {},
   "outputs": [
    {
     "data": {
      "text/plain": [
       "array([ 3.54674453e-01, -7.86064332e-01, -2.31872197e-01,  2.07975680e-01,\n",
       "        9.35807969e-01,  1.79578312e-01, -5.77161505e-01, -5.33372712e-01,\n",
       "       -2.25402122e-01, -3.14919337e-01,  4.22996784e-01, -4.38826807e-01,\n",
       "       -5.01413460e-01, -1.65870284e+00, -1.00757730e+00, -5.08734431e-01,\n",
       "        7.81488420e-01, -6.54381034e-01,  4.11724676e-02, -2.01916907e-01,\n",
       "       -8.70813150e-01,  2.28932070e-01, -4.08039942e-01, -1.03925138e-01,\n",
       "        1.56717879e+00,  4.97024715e-01,  1.15587233e+00,  1.83861168e+00,\n",
       "        1.53572662e+00,  2.54997727e-01, -8.44157252e-01, -9.82943458e-01,\n",
       "       -3.06097832e-01,  8.38500611e-01, -1.69084816e+00,  1.15117366e+00,\n",
       "       -1.02933685e+00, -5.10992189e-01, -2.36027053e+00,  1.03595132e-01,\n",
       "        1.73881773e+00,  1.24187584e+00,  1.32412757e-01,  5.77793957e-01,\n",
       "       -1.57590571e+00, -1.29279424e+00, -6.59919789e-01, -8.74004776e-01,\n",
       "       -6.89550610e-01, -5.35479848e-01,  1.52795302e+00,  6.47205790e-01,\n",
       "       -6.77336612e-01, -2.65018795e-01,  7.46106436e-01, -3.13078483e+00,\n",
       "        5.96217846e-02, -8.75211110e-01,  1.06487833e+00, -5.73152655e-01,\n",
       "       -8.03278487e-01,  1.09297163e+00,  6.51277580e-01,  2.16052479e+00,\n",
       "       -6.39130068e-01, -3.33687530e-01, -4.37601858e-01, -1.90579488e+00,\n",
       "       -1.22901933e+00,  7.94898860e-01, -1.16050814e+00,  5.46055520e-01,\n",
       "        1.16325833e+00,  6.58877019e-01,  5.23689260e-01,  1.32715607e+00,\n",
       "        1.11252447e+00, -1.07462961e+00,  3.43416164e-01,  9.85437540e-01,\n",
       "        7.36501678e-01, -2.08046263e+00, -2.98585970e-01, -1.72921092e+00,\n",
       "        3.50994363e-03,  1.93459530e+00,  2.17559631e-01,  1.81108185e+00,\n",
       "       -2.54939414e+00, -2.05617269e-01,  9.36362426e-03, -2.22082499e+00,\n",
       "       -8.65498906e-01, -1.15852945e-01,  1.14410642e-01, -5.84174735e-02,\n",
       "        6.22187212e-01, -1.63857738e+00,  3.02877351e-01,  2.07687699e+00,\n",
       "       -1.25948997e+00,  3.28844727e-01, -1.20982237e+00, -4.41138456e-01,\n",
       "        1.68880619e+00, -1.59158143e+00, -1.10394673e-01,  1.82400113e+00,\n",
       "        7.10390782e-01, -1.74668441e+00, -2.01571350e+00, -8.37362788e-01,\n",
       "       -1.05055500e+00, -6.43266929e-01, -5.02199389e-01, -3.00081157e+00,\n",
       "        2.86678846e-01,  4.98807584e-01, -6.03661089e-01,  1.30894109e+00,\n",
       "        1.27590944e+00, -1.28599308e+00, -6.25756433e-01,  3.41710794e-01,\n",
       "       -1.30773021e-01, -1.09164964e+00,  7.45390066e-02,  1.24824825e+00,\n",
       "       -4.50342915e-01, -3.47522868e-01, -3.17490276e-01,  1.01295224e+00,\n",
       "       -8.38196741e-01, -1.04132454e+00, -8.72856487e-02,  1.15308879e+00,\n",
       "        1.06793875e+00,  5.70342067e-01, -2.72996168e-01, -1.60397515e-01,\n",
       "       -1.30195312e-02,  6.21866875e-01,  1.37417875e+00,  7.79654117e-01,\n",
       "       -1.55463540e+00, -1.76482361e+00, -6.68984739e-01,  1.74108588e+00,\n",
       "        7.35303659e-02,  7.59002734e-02, -1.96167255e-01, -4.25290726e-01,\n",
       "        6.32211633e-01, -1.06315277e-02, -5.99131610e-01,  9.04725800e-01,\n",
       "       -1.39672651e+00,  1.95303272e+00,  8.96697236e-01,  2.10418140e-01,\n",
       "       -3.89813418e-01,  2.95201603e+00, -1.14432764e+00, -8.73981004e-01,\n",
       "       -8.31606838e-01,  8.41701252e-02,  1.18952505e+00,  5.44333401e-01,\n",
       "        1.02545721e-01,  2.52580068e-01, -2.82736291e+00, -2.26931098e+00,\n",
       "        1.37307024e-01, -2.47747274e-02, -9.75714154e-01,  2.02226211e+00,\n",
       "       -5.12827842e-01,  6.52158224e-01,  6.04131768e-01, -8.83668274e-01,\n",
       "        1.83952051e-01,  1.11604602e+00,  8.06239010e-01,  1.56796229e+00,\n",
       "        1.10604223e+00,  1.81736603e-01,  5.42087095e-01, -3.52532297e-01,\n",
       "        1.65592674e+00, -4.68071024e-01, -1.28003524e+00, -3.61694480e-01,\n",
       "       -1.00495565e+00,  7.98252426e-01,  2.87756840e-01,  3.11926235e-01,\n",
       "       -2.35715231e+00,  5.22861485e-01, -1.04679650e+00,  2.62454874e-01,\n",
       "       -7.05938999e-01,  7.57749725e-01,  2.63729344e-01,  3.14354522e-01,\n",
       "       -1.04883165e+00,  2.59480139e-01,  9.68639042e-01, -7.95396103e-01,\n",
       "       -1.27285068e-01, -3.44672815e-01,  1.58064631e-01,  5.14720157e-01,\n",
       "        6.94856675e-01,  1.65279579e-01,  9.71136786e-02, -1.37612058e+00,\n",
       "        1.42687710e+00, -1.98392249e-02, -3.60443201e-01,  4.51346795e-01,\n",
       "       -1.97854340e+00, -1.58346996e+00, -6.82510239e-01,  8.80194384e-01,\n",
       "       -5.96178017e-01,  1.65062401e+00, -3.19746385e-01, -3.70894656e-01,\n",
       "        9.88958743e-01, -6.03365180e-01,  1.81435953e+00,  6.41014834e-01,\n",
       "       -1.58165302e-01,  1.76663024e+00,  1.04636851e+00, -4.07329467e-01,\n",
       "       -1.93470879e+00, -4.96434597e-01,  2.70299271e-01, -6.05154320e-01,\n",
       "       -1.11540809e+00,  7.84944935e-01, -5.96245284e-01,  1.94377092e-01,\n",
       "       -1.25291672e-01, -1.27106080e+00,  5.16564756e-01,  4.02166305e-01,\n",
       "        2.37353815e-01,  1.44368479e+00, -2.81220397e+00, -1.32294978e+00,\n",
       "        1.59735073e+00,  1.59188851e+00, -1.94991783e+00,  4.41580655e-02,\n",
       "        7.91190519e-01,  7.69969673e-02, -8.29158723e-02,  3.74415663e-01,\n",
       "        5.35306316e-01,  1.18382133e+00,  5.82998115e-01, -4.95757734e-01,\n",
       "        9.35906259e-01, -7.14283872e-01, -1.13853862e+00,  1.46928281e-02,\n",
       "        1.31087813e-01,  2.84071305e-01,  4.47591797e-01,  1.86449043e+00,\n",
       "        3.00210045e-02, -8.13781141e-03,  5.04537877e-01, -1.59925359e+00,\n",
       "        2.88028058e+00,  6.80261261e-01, -1.09375786e+00,  5.11771707e-01,\n",
       "       -7.05256218e-01, -4.57427396e-01, -7.80382501e-01, -3.06300086e-01,\n",
       "       -1.44052877e+00, -1.51201385e+00, -1.18275092e+00,  7.65745881e-01,\n",
       "       -7.05151216e-01,  2.83602707e-01, -9.18300125e-01,  1.88882614e-01,\n",
       "        1.13914258e+00,  2.78298792e+00, -3.97100348e-01, -1.82773364e+00,\n",
       "        1.01042664e-01, -4.70837775e-01,  2.25851842e-04, -6.22057666e-02,\n",
       "       -7.19296468e-01,  2.82610424e-03,  1.30619815e-01,  5.40752200e-01,\n",
       "       -4.32314615e-01,  1.99748355e+00, -8.87594033e-01,  5.68494513e-01,\n",
       "        8.88370412e-01,  1.92497541e+00, -1.19020815e+00,  2.27432074e+00,\n",
       "        7.80500394e-01,  5.96059864e-01,  1.01575892e+00,  5.73983109e-02,\n",
       "        2.05667885e+00, -2.09282789e+00,  1.20651359e-01,  8.73687908e-01,\n",
       "        5.70562186e-01, -9.85694661e-01,  3.22227452e-01,  1.30661515e+00,\n",
       "       -4.43153632e-01, -9.06948451e-01, -6.16280305e-01,  5.38054557e-01,\n",
       "        6.18531753e-01, -1.16065991e+00, -3.39710954e-01, -1.01607775e+00,\n",
       "        1.71619992e+00, -1.01769537e+00, -2.94509100e+00,  1.99937167e+00,\n",
       "        1.39146772e+00,  1.09131892e-01, -4.04140709e-01,  3.49182456e-01,\n",
       "        1.55843534e-01, -3.34601192e-01, -8.58324306e-01,  3.82110553e-01,\n",
       "       -3.69894066e-01, -3.44433122e-01, -2.97416807e+00,  5.97051142e-01,\n",
       "       -7.89919909e-02, -2.07341953e+00, -6.64010520e-02, -6.77933116e-02,\n",
       "       -5.34364433e-01,  5.83634042e-01, -2.06606689e-01, -7.57682856e-01,\n",
       "       -1.68780095e-01,  9.30517576e-01,  6.59587901e-01,  3.28798900e-01,\n",
       "       -7.77809021e-01, -1.36177504e-02,  3.06149586e-01, -2.42364055e-01,\n",
       "        4.11490057e-01,  5.74014498e-01,  8.27557396e-01,  4.32296728e-01,\n",
       "        1.12582034e-01, -1.56677849e+00,  1.27904047e+00, -1.26207197e+00,\n",
       "        2.07344196e-02, -1.82600405e+00,  4.89048753e-01, -1.83148562e+00,\n",
       "        2.40856299e-01, -1.19067697e+00, -1.08306327e+00, -4.15514872e-02,\n",
       "       -1.40210508e+00,  2.04537869e-01,  6.53669423e-01,  1.91403730e+00,\n",
       "        9.18205074e-02, -1.57636600e+00,  8.66348880e-01, -4.62449343e-01,\n",
       "       -9.18950647e-01, -1.20922267e-01, -9.92472231e-01, -8.79977860e-01,\n",
       "       -1.91479400e-01, -4.55292595e-01,  4.30100809e-01,  1.74108703e+00,\n",
       "       -1.02148474e+00, -4.20367186e-01, -1.68346576e+00, -5.11529893e-01,\n",
       "        1.88239503e+00,  1.67229053e+00,  4.01335452e-01, -8.45593337e-01,\n",
       "        2.99656883e-02, -1.15924148e+00, -1.33639230e+00, -6.99046162e-01,\n",
       "       -9.11246854e-02, -6.26544728e-01,  5.49926336e-01,  4.24229129e-01,\n",
       "       -1.45898210e+00,  1.47319820e+00, -1.16680997e+00,  1.12719177e+00,\n",
       "        4.18156459e-01,  2.28646513e-01,  2.75862671e-01, -6.77386831e-01,\n",
       "        1.25969034e+00, -6.87389250e-01,  1.64879310e-01, -5.11196344e-01,\n",
       "        2.60129516e-01, -6.36966900e-01, -2.44440056e-01,  5.45570183e-02,\n",
       "       -8.67189698e-01, -2.27451673e+00, -4.98779296e-02, -1.89097576e-01,\n",
       "       -1.88866764e-01,  2.52144718e-02, -1.36834756e+00, -1.03979564e+00,\n",
       "        6.93238080e-01,  2.56959663e+00, -3.48932975e-01,  5.86198923e-01,\n",
       "       -1.06246007e+00, -1.10996055e+00, -3.01104637e-01, -5.86108203e-01,\n",
       "       -8.70337347e-01,  1.25994811e+00,  1.28280125e+00, -9.68121676e-02,\n",
       "        1.90609742e-02, -9.40981554e-01,  4.90702502e-01,  6.06443888e-01,\n",
       "        1.31511943e-01,  5.14711232e-02, -7.41277510e-01,  1.65226845e+00,\n",
       "        1.58839451e+00, -6.88358724e-01,  9.21838228e-01,  4.64321697e-01,\n",
       "       -4.81060014e-02,  7.02087249e-01,  1.60178097e-01, -9.42263555e-01,\n",
       "       -4.87343619e-02,  3.53809818e-01, -2.54859013e-01,  1.29168799e+00,\n",
       "       -5.78737504e-01,  6.64657812e-01,  1.56484270e+00, -6.03180394e-01,\n",
       "        1.26437769e+00,  6.45075212e-01, -1.24118792e-01,  4.56685640e-01,\n",
       "       -1.55418157e-01,  2.10960792e-01, -5.66144589e-01,  1.28007951e+00,\n",
       "       -1.49341318e+00,  4.71118397e-01, -1.28721621e+00, -2.47517117e-01,\n",
       "        9.63484488e-01, -3.35903394e-01,  2.58017721e-01, -5.04255402e-02,\n",
       "        1.05902441e+00, -4.88513206e-02, -1.69942936e+00, -8.59213785e-01,\n",
       "        1.36376463e+00,  9.28011946e-01,  6.33087676e-01,  1.46799340e+00,\n",
       "        3.87565792e-01,  9.26706772e-01,  6.75805178e-01, -4.32685355e-01,\n",
       "        1.55981498e-01, -1.32038848e+00,  1.53193961e+00, -1.44847794e+00,\n",
       "       -1.73341392e+00,  2.33258203e+00, -3.58914400e-01,  1.18346649e+00,\n",
       "        1.41977160e-02,  2.39265232e+00,  2.46901967e+00,  2.01665809e-02,\n",
       "        2.26034059e-01,  1.25322248e-01,  9.73803915e-01,  2.15950151e-01,\n",
       "       -1.04005319e+00,  1.34438947e+00, -5.48416196e-01,  6.68949078e-01,\n",
       "        2.18010899e-01,  2.31030324e+00, -4.47257481e-01, -1.82921423e+00,\n",
       "       -9.87035602e-01,  1.01920791e+00, -6.51675868e-01, -1.03420937e+00,\n",
       "       -1.22387688e+00,  2.39181026e+00, -3.74183645e+00,  7.67979968e-01,\n",
       "       -5.23262434e-01,  1.32990784e+00,  5.19465917e-01,  3.85911812e-01,\n",
       "        3.53977219e-01, -1.06342319e+00,  2.92036893e-01,  7.89775769e-03,\n",
       "        2.33638971e-01, -4.60908425e-01, -6.96348230e-01, -2.45907169e-01,\n",
       "       -1.56269626e-02,  3.63816013e-01,  2.75282944e+00, -1.84932686e+00,\n",
       "       -1.45722114e-02,  6.94542789e-01,  8.53195857e-01,  9.15658635e-01,\n",
       "        2.48901570e-01, -3.69899068e-01,  4.39397320e-01,  2.16173371e-01,\n",
       "        1.84935197e+00,  7.90917192e-02, -1.94786645e-01,  1.04235866e+00,\n",
       "       -1.05720920e+00, -3.60212059e-02,  4.01156146e-01, -1.24675448e+00,\n",
       "       -9.00338785e-01, -5.72924719e-01,  6.44503795e-01,  4.32990761e-03,\n",
       "        7.68175826e-01, -8.59226001e-01,  7.71269599e-01,  7.58557468e-01,\n",
       "       -2.22482972e-01,  5.33000781e-01, -9.47067733e-01,  5.16396569e-01,\n",
       "       -9.48161306e-02,  1.86116948e+00,  1.99753088e+00, -7.91495322e-01,\n",
       "        1.50998942e+00, -1.15896684e-01,  1.15168959e+00,  2.10390135e-01,\n",
       "        1.23665129e+00, -1.10400972e+00,  1.08091063e+00, -1.27504095e+00,\n",
       "       -5.32266205e-01, -1.76568078e-01,  1.77053294e+00, -4.76714121e-01,\n",
       "        6.88617955e-01, -1.41130107e+00,  3.17738254e-01, -8.75475909e-01,\n",
       "       -1.90566232e+00,  1.13423003e-01,  1.28353018e+00, -1.32091706e+00,\n",
       "        2.36755810e-02,  6.54338729e-01,  6.58951009e-01,  1.63315490e+00,\n",
       "        1.62709885e+00, -9.94955383e-01,  5.89455595e-01, -4.44923047e-01,\n",
       "       -6.68728116e-01, -3.65839838e-01, -1.64874834e+00, -4.97525637e-01,\n",
       "        8.42287370e-01, -1.34025356e+00,  8.75917637e-01, -1.07403452e-01,\n",
       "       -6.76446356e-01,  1.15789874e+00, -1.01231356e+00,  7.90586990e-01,\n",
       "        6.38555302e-01, -1.02338637e+00, -1.30700285e+00, -3.57229606e-01,\n",
       "       -8.26401243e-01, -2.25746110e-01,  7.17653563e-01, -3.26980250e-01,\n",
       "        1.68387686e-01,  4.72933169e-01,  1.18032520e-01, -1.39904360e+00,\n",
       "        5.41786878e-01, -1.85192626e+00, -2.12819229e+00,  2.16740069e+00,\n",
       "        4.04695182e-01,  2.80150819e-01, -1.81927444e+00, -2.97418545e-01,\n",
       "       -2.05761521e-01,  1.72603290e+00, -6.39867001e-01, -2.01100696e-01,\n",
       "       -4.95612906e-02,  1.32848503e+00, -6.66814643e-01,  1.32958568e+00,\n",
       "        9.23359750e-01, -9.07224358e-01,  4.37612944e-01,  5.55210434e-01,\n",
       "       -2.90211498e-01, -6.24635929e-01, -4.48343387e-01, -1.12217728e+00,\n",
       "       -1.27158014e+00, -6.87750794e-01,  6.21483886e-01, -8.55686920e-01,\n",
       "        5.40583195e-01, -5.66711810e-01, -5.54713947e-01,  1.67852868e-01,\n",
       "       -2.20042086e+00, -1.05355994e+00, -1.28095364e+00, -1.66683519e-01,\n",
       "        1.90754928e+00,  5.99290478e-01,  5.34951037e-01,  6.87558514e-01,\n",
       "        1.11966861e+00,  1.64155816e+00, -4.50460965e-01, -6.78249628e-01,\n",
       "        6.30064247e-01, -5.26742721e-01,  2.85322386e-01, -2.23220421e-01,\n",
       "       -8.47844392e-02, -5.92472101e-02,  2.97485107e-02,  1.68486111e+00,\n",
       "       -1.79821219e+00,  1.14108606e+00,  1.32938569e+00,  2.26294554e-01,\n",
       "       -4.26394051e-01, -6.60444064e-01, -8.86830769e-01,  9.39148284e-01,\n",
       "       -1.69500737e+00,  1.01737146e+00, -2.57524575e-03, -7.86263558e-01,\n",
       "       -6.25816003e-01, -1.77916906e+00,  2.22086534e+00,  1.15962787e+00,\n",
       "        3.18110276e-01, -5.62301180e-01,  1.01035619e+00, -1.01991957e+00,\n",
       "       -8.65897254e-01, -1.19242897e+00, -4.70565112e-01, -8.38263047e-01,\n",
       "        4.08136773e-01,  1.47891223e+00, -2.67848357e+00, -2.85467472e-01,\n",
       "        9.96841967e-01,  5.43321410e-02,  8.79180095e-01,  1.29382527e+00,\n",
       "       -1.28627511e+00,  2.99028813e-01, -7.02028033e-01,  1.88979087e-01,\n",
       "       -1.14519676e+00,  7.16896798e-01, -1.84579086e+00,  2.58074523e-01,\n",
       "       -3.14145579e-01,  3.24793105e+00, -2.04167709e+00, -1.38517414e+00,\n",
       "       -3.88815737e-01, -2.26674382e-01, -4.28327287e-01,  3.82506730e-01,\n",
       "       -1.08643773e-01,  8.43176341e-01, -8.21939302e-01, -9.94473014e-02,\n",
       "       -9.79956276e-01,  6.56225913e-01,  2.73443776e-01, -4.97960052e-01,\n",
       "        1.46799380e+00, -1.71340420e+00, -4.49263332e-01,  1.20677266e-02,\n",
       "       -7.88279164e-01,  8.84379764e-01,  9.47626287e-01,  9.48319459e-01,\n",
       "        1.20033804e-01, -5.73173554e-01,  3.24101090e-01, -9.42140920e-03,\n",
       "        1.00502401e-01, -5.76327217e-01, -1.77010393e-01, -3.44942422e-01,\n",
       "       -8.40674456e-01,  5.02450333e-01,  6.16889789e-01, -1.04684461e-02,\n",
       "        1.73380365e+00,  1.45295814e+00, -4.43645763e-01, -7.07945267e-01,\n",
       "       -1.76248825e-01,  1.45250168e-01,  1.48537207e+00,  2.01884620e-01,\n",
       "       -3.34443905e-01,  6.68235686e-01, -8.71473836e-01,  3.36148128e-01,\n",
       "       -1.22164345e+00,  4.27216207e-01,  4.55230752e-01, -5.89676227e-02,\n",
       "       -1.14808762e+00,  2.41815147e-02,  1.60289776e-01,  6.52527499e-01,\n",
       "        1.39969095e+00, -1.78585681e-01,  1.05469891e+00,  8.56962145e-01,\n",
       "       -9.81369293e-01, -5.33600744e-01,  7.49340179e-01, -1.45948239e+00,\n",
       "       -8.03620911e-02,  2.30177213e-01, -1.29129056e+00,  9.68436484e-01,\n",
       "       -3.71552844e-01,  7.70721890e-02,  4.95410893e-01, -1.28716657e-01,\n",
       "       -7.15077049e-01, -1.01937447e+00,  3.08980984e-01,  1.25734648e+00,\n",
       "       -9.53589893e-01, -5.67037478e-01,  1.78524214e-02, -3.58763090e-01,\n",
       "        4.10683130e-01, -4.37062514e-01,  3.92586002e-01,  2.18251152e+00,\n",
       "       -8.38262114e-01, -9.19251471e-01,  4.29490930e-01, -4.94420288e-01,\n",
       "       -1.02200945e+00, -2.33424788e-01, -8.03761985e-02,  1.24858347e+00,\n",
       "       -3.61266070e-01, -8.44594912e-01, -1.31462713e+00, -1.60560156e-01,\n",
       "        1.56405551e+00,  1.21972823e-01,  5.88817570e-01,  3.99177626e-01,\n",
       "        5.69765065e-01,  4.26886212e-01,  9.18406982e-01, -9.30076846e-01,\n",
       "       -1.06698893e+00,  1.34265389e+00, -1.34340261e+00,  1.58835075e+00,\n",
       "       -1.92725281e+00,  1.41848858e-01, -2.03168001e-01,  1.53861290e-01,\n",
       "       -9.24118740e-01,  1.31520359e+00, -1.13015818e+00, -5.93461579e-01,\n",
       "        3.28172535e-01, -6.74895485e-01, -2.29980024e-02, -5.29407856e-01,\n",
       "        2.76109563e+00,  8.54048775e-01,  6.19616511e-01,  3.65732109e-01,\n",
       "       -7.94185285e-02,  2.30774827e-01,  7.87180007e-01,  1.41477562e+00,\n",
       "        4.57202787e-01,  4.26719313e-01,  7.57965518e-01, -1.53887660e+00,\n",
       "        7.72722455e-01, -5.86954249e-01, -1.74367564e+00, -2.73279938e-01,\n",
       "       -1.02448801e-02, -1.41399516e+00,  6.45606661e-01, -7.09451409e-01,\n",
       "       -8.67357242e-01, -8.89270895e-01,  1.70251869e+00,  3.11147006e-01,\n",
       "       -6.44780213e-01, -2.02589882e-01,  3.41216941e-01,  2.95189110e-03,\n",
       "        8.48696816e-01, -3.82960806e-01, -9.55700587e-02, -1.81833359e+00,\n",
       "        1.32788906e+00,  2.38933150e-01, -2.23065681e-02,  1.18016925e+00,\n",
       "       -9.24268324e-02, -4.58622523e-01, -1.27082750e+00, -8.91020784e-01,\n",
       "        1.83593640e+00,  7.87542873e-01,  2.50049308e+00, -1.11361122e+00,\n",
       "       -1.61545921e-01,  1.29548293e-01,  1.93843058e+00,  4.34056075e-01,\n",
       "       -1.85876307e-01, -6.36120506e-03, -4.05930999e-01,  5.45147043e-01,\n",
       "        1.57427082e+00,  9.60840313e-01,  7.97483718e-01, -1.62349577e+00,\n",
       "        1.07614346e+00, -2.11525328e+00,  6.46626834e-01, -1.94203728e+00,\n",
       "        2.58840368e+00,  3.40411808e-01, -2.43078917e-02,  2.22214381e+00,\n",
       "       -1.21020071e+00, -1.58713187e+00,  8.31438422e-02,  1.40711117e+00,\n",
       "       -6.60190527e-01,  2.53940563e-01,  9.32092195e-01, -6.42228241e-02,\n",
       "       -1.13523509e+00, -1.72440022e-01,  2.38404585e-01,  5.11990473e-01,\n",
       "        2.02434396e+00, -1.18439036e+00,  9.26425066e-01,  4.84246522e-01,\n",
       "       -7.86087168e-01, -8.19016506e-01, -1.30737270e-01, -7.95886626e-02,\n",
       "       -5.41816787e-02,  8.48033299e-01, -2.27526100e-01, -6.93873690e-01,\n",
       "       -1.22625592e+00,  3.03271601e-01, -5.00011292e-01, -1.03719339e+00,\n",
       "       -7.06196914e-01, -1.82779806e+00, -2.83082162e-01, -1.94970014e+00,\n",
       "        5.24313790e-01,  4.78262961e-02, -6.24629492e-01,  7.46299497e-03,\n",
       "       -3.46433745e-01, -1.19939658e-01, -1.23710277e-01,  7.50897118e-01,\n",
       "       -7.67202993e-01,  2.48574953e-01, -8.20747595e-01, -4.48887204e-01,\n",
       "       -1.37924006e+00, -1.37687177e+00, -6.54126988e-01, -1.55113050e+00,\n",
       "        1.15719499e+00, -8.30584203e-01,  2.05959060e-01,  3.68926051e-02,\n",
       "       -5.68064631e-01, -1.02573728e+00,  5.90319245e-02,  2.08600971e+00,\n",
       "        8.62653113e-01, -1.70256460e+00, -7.39305556e-01,  1.60291763e+00,\n",
       "       -1.47197657e+00, -3.21545119e-01, -1.02302383e+00,  6.25380118e-01,\n",
       "        6.50681083e-02, -9.26950974e-01, -1.59156843e-01, -1.24165274e+00,\n",
       "        1.43314425e+00, -1.09569089e+00, -1.18884103e+00, -1.11644418e+00,\n",
       "       -7.44459726e-01, -1.06089505e+00, -4.87469343e-01, -7.38694925e-01,\n",
       "        2.45768132e-01,  4.07995374e-02,  9.77414373e-01, -6.86529958e-01,\n",
       "       -1.08738140e-02,  9.61615714e-01, -3.78570036e-01,  8.70632403e-01,\n",
       "       -1.10384960e+00,  7.57031292e-01,  1.08024231e+00,  7.20020259e-01,\n",
       "       -1.00886189e+00, -1.45763563e-01,  1.96474844e-01, -4.20743773e-01])"
      ]
     },
     "execution_count": 3,
     "metadata": {},
     "output_type": "execute_result"
    }
   ],
   "source": [
    "np.random.randn(1000)"
   ]
  },
  {
   "cell_type": "code",
   "execution_count": 4,
   "metadata": {},
   "outputs": [
    {
     "data": {
      "text/plain": [
       "<Figure size 800x600 with 1 Axes>"
      ]
     },
     "metadata": {},
     "output_type": "display_data"
    }
   ],
   "source": [
    "import numpy as np\n",
    "import matplotlib.pyplot as plt\n",
    "np.random.seed(100)\n",
    "x = 60 + 10*np.random.randn(1000)\n",
    "fig = plt.figure(figsize=(8,6))\n",
    "ax = fig.add_subplot(111)\n",
    "ax.set(title=\"Distribution of Student's Percentage\",\n",
    "      ylabel='Count', xlabel='Percentage')\n",
    "ax.hist(x)\n",
    "plt.show()"
   ]
  },
  {
   "cell_type": "markdown",
   "metadata": {},
   "source": [
    "Common Parameters of 'hist'\n",
    "\n",
    "    color: Sets the color of bars.\n",
    "\n",
    "    bins: Sets the number of bins to be used.\n",
    "\n",
    "    normed: Sets to True where bins display fraction and not the count.\n"
   ]
  },
  {
   "cell_type": "code",
   "execution_count": 5,
   "metadata": {},
   "outputs": [
    {
     "data": {
      "image/png": "[encoded data removed]",
      "text/plain": [
       "<Figure size 576x432 with 1 Axes>"
      ]
     },
     "metadata": {
      "needs_background": "light"
     },
     "output_type": "display_data"
    }
   ],
   "source": [
    "import numpy as np\n",
    "np.random.seed(100)\n",
    "x = 60 + 10*np.random.randn(1000)\n",
    "fig = plt.figure(figsize=(8,6))\n",
    "ax = fig.add_subplot(111)\n",
    "ax.set(title=\"Distribution of Student's Percentage\",\n",
    "      ylabel='Proportion', xlabel='Percentage')\n",
    "ax.hist(x, color='blue', bins=30)\n",
    "plt.show()"
   ]
  },
  {
   "cell_type": "markdown",
   "metadata": {},
   "source": [
    "<h1>BOX PLOT</h1>"
   ]
  },
  {
   "cell_type": "raw",
   "metadata": {},
   "source": [
    "Box Plots\n",
    "\n",
    "    Box plots are also used to visualize the spread of data.\n",
    "\n",
    "    Box plots are used to compare distributions.\n",
    "\n",
    "    Box plots can also be used to detect outliers.\n",
    "\n",
    "Syntax\n",
    "\n",
    "boxplot(x)\n",
    "# 'x' : list of values or list of list of values."
   ]
  },
  {
   "cell_type": "code",
   "execution_count": 6,
   "metadata": {},
   "outputs": [
    {
     "data": {
      "image/png": "[encoded data removed]",
      "text/plain": [
       "<Figure size 576x432 with 1 Axes>"
      ]
     },
     "metadata": {
      "needs_background": "light"
     },
     "output_type": "display_data"
    }
   ],
   "source": [
    "import numpy as np\n",
    "np.random.seed(100)\n",
    "x = 60 + 10*np.random.randn(1000)\n",
    "fig = plt.figure(figsize=(8,6))\n",
    "ax = fig.add_subplot(111)\n",
    "ax.set(title=\"Box plot of Student's Percentage\",\n",
    "      xlabel='Class', ylabel='Percentage')\n",
    "ax.boxplot(x)\n",
    "plt.show()"
   ]
  },
  {
   "cell_type": "markdown",
   "metadata": {},
   "source": [
    "Common Parameters of 'boxplot'\n",
    "\n",
    "    labels: Sets the labels for box plots.\n",
    "\n",
    "    notch: Sets to True if notches need to be created around the median.\n",
    "\n",
    "    bootstrap: Number set to indicate that notches around the median are bootstrapped.\n",
    "\n",
    "    vert: Sets to False for plotting Box plots horizontally"
   ]
  },
  {
   "cell_type": "code",
   "execution_count": 7,
   "metadata": {},
   "outputs": [
    {
     "data": {
      "image/png": "[encoded data removed]",
      "text/plain": [
       "<Figure size 576x432 with 1 Axes>"
      ]
     },
     "metadata": {
      "needs_background": "light"
     },
     "output_type": "display_data"
    }
   ],
   "source": [
    "import numpy as np\n",
    "np.random.seed(100)\n",
    "x = 60 + 10*np.random.randn(1000)\n",
    "fig = plt.figure(figsize=(8,6))\n",
    "ax = fig.add_subplot(111)\n",
    "ax.set(title=\"Box plot of Student's Percentage\",\n",
    "      xlabel='Class', ylabel='Percentage')\n",
    "ax.boxplot(x, labels=['A'], notch=True,bootstrap=10000)\n",
    "plt.show()"
   ]
  },
  {
   "cell_type": "markdown",
   "metadata": {},
   "source": [
    "<h1>Plotting Multiple Boxplots</h1>"
   ]
  },
  {
   "cell_type": "code",
   "execution_count": 8,
   "metadata": {},
   "outputs": [
    {
     "data": {
      "image/png": "[encoded data removed]",
      "text/plain": [
       "<Figure size 576x432 with 1 Axes>"
      ]
     },
     "metadata": {
      "needs_background": "light"
     },
     "output_type": "display_data"
    }
   ],
   "source": [
    "import numpy as np\n",
    "np.random.seed(100)\n",
    "x = 50 + 10*np.random.randn(1000)\n",
    "y = 70 + 25*np.random.randn(1000)\n",
    "z = 30 + 5*np.random.randn(1000)\n",
    "fig = plt.figure(figsize=(8,6))\n",
    "ax = fig.add_subplot(111)\n",
    "ax.set(title=\"Box plot of Student's Percentage\",\n",
    "      xlabel='Class', ylabel='Percentage')\n",
    "ax.boxplot([x, y, z], labels=['A', 'B', 'C'], notch=True, bootstrap=10000)\n",
    "plt.show()"
   ]
  },
  {
   "cell_type": "markdown",
   "metadata": {},
   "source": [
    "<h1>Plotting Boxplots Horizontally</h1>"
   ]
  },
  {
   "cell_type": "code",
   "execution_count": 9,
   "metadata": {},
   "outputs": [
    {
     "data": {
      "image/png": "[encoded data removed]",
      "text/plain": [
       "<Figure size 576x432 with 1 Axes>"
      ]
     },
     "metadata": {
      "needs_background": "light"
     },
     "output_type": "display_data"
    }
   ],
   "source": [
    "import numpy as np\n",
    "np.random.seed(100)\n",
    "x = 50 + 10*np.random.randn(1000)\n",
    "y = 70 + 25*np.random.randn(1000)\n",
    "z = 30 + 5*np.random.randn(1000)\n",
    "fig = plt.figure(figsize=(8,6))\n",
    "ax = fig.add_subplot(111)\n",
    "ax.set(title=\"Box plot of Student's Percentage\",\n",
    "      xlabel='Percentage', ylabel='Class')\n",
    "ax.boxplot([x, y, z], labels=['A', 'B', 'C'], vert=False, notch=True, bootstrap=10000)\n",
    "\n",
    "plt.show()"
   ]
  },
  {
   "cell_type": "code",
   "execution_count": 10,
   "metadata": {},
   "outputs": [
    {
     "data": {
      "image/png": "[encoded data removed]",
      "text/plain": [
       "<Figure size 576x432 with 1 Axes>"
      ]
     },
     "metadata": {
      "needs_background": "light"
     },
     "output_type": "display_data"
    }
   ],
   "source": [
    "# Create a normal distribution x1 of 1000 values, with mean 25 and standard deviation 3.0. Use np.random.randn.\n",
    "\n",
    "\n",
    "\n",
    "def test_hist_of_a_sample_normal_distribution():\n",
    "\n",
    "    # Write your functionality below\n",
    "    fig = plt.figure(figsize=(8,6))\n",
    "    ax = fig.add_subplot(111)\n",
    "    np.random.seed(100)\n",
    "    x1= 25+3.0*np.random.randn(1000)\n",
    "    ax.hist(x1,bins=30)\n",
    "    ax.set(xlabel=\"X1\",ylabel=\"Bin Count\",title=\"Histogram of a Single Dataset\")\n",
    "\n",
    "test_hist_of_a_sample_normal_distribution()"
   ]
  },
  {
   "cell_type": "code",
   "execution_count": 11,
   "metadata": {},
   "outputs": [
    {
     "data": {
      "image/png": "[encoded data removed]",
      "text/plain": [
       "<Figure size 576x432 with 1 Axes>"
      ]
     },
     "metadata": {
      "needs_background": "light"
     },
     "output_type": "display_data"
    }
   ],
   "source": [
    "def test_boxplot_of_four_normal_distribution():\n",
    "\n",
    "    # Write your functionality below\n",
    "    fig = plt.figure(figsize=(8,6))\n",
    "    ax = fig.add_subplot(111)\n",
    "    np.random.seed(100)\n",
    "    x1 = 25+3.0*np.random.randn(1000)\n",
    "    x2 = 35+5.0*np.random.randn(1000)\n",
    "    x3 = 55+10.0*np.random.randn(1000)\n",
    "    x4 = 45+3.0*np.random.randn(1000)\n",
    "    labels = ['X1','X2','X3','X4']\n",
    "    ax.boxplot([x1,x2,x3,x4],labels=labels,patch_artist=True,sym='+',notch=True)\n",
    "    ax.set(xlabel=\"Dataset\")\n",
    "    ax.set(ylabel=\"Value\")\n",
    "    ax.set(title=\"Box plot of Multiple Datasets\")\n",
    "    \n",
    "test_boxplot_of_four_normal_distribution()"
   ]
  },
  {
   "cell_type": "code",
   "execution_count": null,
   "metadata": {},
   "outputs": [],
   "source": []
  }
 ],
 "metadata": {
  "kernelspec": {
   "display_name": "Python 3",
   "language": "python",
   "name": "python3"
  },
  "language_info": {
   "codemirror_mode": {
    "name": "ipython",
    "version": 3
   },
   "file_extension": ".py",
   "mimetype": "text/x-python",
   "name": "python",
   "nbconvert_exporter": "python",
   "pygments_lexer": "ipython3",
   "version": "3.6.9"
  }
 },
 "nbformat": 4,
 "nbformat_minor": 2
}
