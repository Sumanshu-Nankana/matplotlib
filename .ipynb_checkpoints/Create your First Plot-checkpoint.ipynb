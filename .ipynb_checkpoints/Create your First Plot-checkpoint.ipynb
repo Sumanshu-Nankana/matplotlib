{
 "cells": [
  {
   "cell_type": "code",
   "execution_count": 6,
   "metadata": {},
   "outputs": [],
   "source": [
    "import matplotlib\n",
    "matplotlib.use('Agg')\n",
    "import matplotlib.pyplot as plt\n",
    "from matplotlib.testing.decorators import image_comparison\n",
    "\n",
    "@image_comparison(baseline_images=['My_First_plot'],extensions=['png'])\n",
    "def test_my_first_plot():\n",
    "    \n",
    "    # Write your functionality below\n",
    "    fig = plt.figure(figsize=(8,6))\n",
    "    ax = fig.add_subplot(111)\n",
    "    t = [5,10,15,20,25]\n",
    "    d = [25,50,75,100,125]\n",
    "    ax.plot(t,d,label=\"d = 5t\")\n",
    "    ax.set(xlabel=\"time (seconds)\",ylabel=\"distance (meters)\")\n",
    "    ax.set(title=\"Time vs Distance Covered\")\n",
    "    ax.set(xlim=(0,30))\n",
    "    ax.set(ylim=(0,130))\n",
    "    ax.legend()"
   ]
  },
  {
   "cell_type": "markdown",
   "metadata": {},
   "source": [
    "If we use 'AGG' -\n",
    "Matplotlib is currently using agg, which is a non-GUI backend, so cannot show the figure."
   ]
  },
  {
   "cell_type": "code",
   "execution_count": 5,
   "metadata": {},
   "outputs": [
    {
     "name": "stderr",
     "output_type": "stream",
     "text": [
      "/usr/local/lib/python3.6/dist-packages/ipykernel_launcher.py:15: UserWarning: Matplotlib is currently using agg, which is a non-GUI backend, so cannot show the figure.\n",
      "  from ipykernel import kernelapp as app\n"
     ]
    }
   ],
   "source": [
    "def test_my_first_plot():\n",
    "    \n",
    "    # Write your functionality below\n",
    "    fig = plt.figure(figsize=(8,6))\n",
    "    ax = fig.add_subplot(111)\n",
    "    t = [5,10,15,20,25]\n",
    "    d = [25,50,75,100,125]\n",
    "    ax.plot(t,d,label=\"d=5t\")\n",
    "    ax.set(xlabel=\"time (seconds)\",ylabel=\"distance (meters\")\n",
    "    ax.set(title=\"Time vs Distance Covered\")\n",
    "    ax.set(xlim=(0,30))\n",
    "    ax.set(ylim=(0,130))\n",
    "    ax.legend()\n",
    "    plt.show()\n",
    "    \n",
    "test_my_first_plot()"
   ]
  }
 ],
 "metadata": {
  "kernelspec": {
   "display_name": "Python 3",
   "language": "python",
   "name": "python3"
  },
  "language_info": {
   "codemirror_mode": {
    "name": "ipython",
    "version": 3
   },
   "file_extension": ".py",
   "mimetype": "text/x-python",
   "name": "python",
   "nbconvert_exporter": "python",
   "pygments_lexer": "ipython3",
   "version": "3.6.9"
  }
 },
 "nbformat": 4,
 "nbformat_minor": 2
}
