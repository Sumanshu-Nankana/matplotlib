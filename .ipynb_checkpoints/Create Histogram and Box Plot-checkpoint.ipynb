{
 "cells": [
  {
   "cell_type": "code",
   "execution_count": 1,
   "metadata": {},
   "outputs": [],
   "source": [
    "import matplotlib\n",
    "matplotlib.use('Agg')\n",
    "import matplotlib.pyplot as plt\n",
    "import numpy as np\n",
    "from matplotlib.testing.decorators import image_comparison\n",
    "\n",
    "@image_comparison(baseline_images=['Histogram'],extensions=['png'])\n",
    "def test_hist_of_a_sample_normal_distribution():\n",
    "\n",
    "    # Write your functionality below\n",
    "    fig = plt.figure(figsize=(8,6))\n",
    "    ax = fig.add_subplot(111)\n",
    "    np.random.seed(100)\n",
    "    x1= 25+3.0*np.random.randn(1000)\n",
    "    ax.hist(x1,bins=30)\n",
    "    ax.set(xlabel=\"X1\",ylabel=\"Bin Count\",title=\"Histogram of a Single Dataset\")\n",
    "\n",
    "\n",
    "@image_comparison(baseline_images=['Boxplot'],extensions=['png'])\n",
    "def test_boxplot_of_four_normal_distribution():\n",
    "\n",
    "    # Write your functionality below\n",
    "    fig = plt.figure(figsize=(8,6))\n",
    "    ax = fig.add_subplot(111)\n",
    "    np.random.seed(100)\n",
    "    x1 = 25+3.0*np.random.randn(1000)\n",
    "    x2 = 35+5.0*np.random.randn(1000)\n",
    "    x3 = 55+10.0*np.random.randn(1000)\n",
    "    x4 = 45+3.0*np.random.randn(1000)\n",
    "    labels = ['X1','X2','X3','X4']\n",
    "    ax.boxplot([x1,x2,x3,x4],labels=labels,patch_artist=True,sym='+',notch=True)\n",
    "    ax.set(xlabel=\"Dataset\")\n",
    "    ax.set(ylabel=\"Value\")\n",
    "    ax.set(title=\"Box plot of Multiple Datasets\")"
   ]
  }
 ],
 "metadata": {
  "kernelspec": {
   "display_name": "Python 3",
   "language": "python",
   "name": "python3"
  },
  "language_info": {
   "codemirror_mode": {
    "name": "ipython",
    "version": 3
   },
   "file_extension": ".py",
   "mimetype": "text/x-python",
   "name": "python",
   "nbconvert_exporter": "python",
   "pygments_lexer": "ipython3",
   "version": "3.6.9"
  }
 },
 "nbformat": 4,
 "nbformat_minor": 2
}
